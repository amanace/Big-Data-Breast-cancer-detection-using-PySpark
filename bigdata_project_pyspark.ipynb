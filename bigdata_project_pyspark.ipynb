{
  "nbformat": 4,
  "nbformat_minor": 0,
  "metadata": {
    "colab": {
      "provenance": []
    },
    "kernelspec": {
      "name": "python3",
      "display_name": "Python 3"
    },
    "language_info": {
      "name": "python"
    }
  },
  "cells": [
    {
      "cell_type": "markdown",
      "source": [
        "#Breast Cancer Detaction using PySpark"
      ],
      "metadata": {
        "id": "mjQC1C-ffomr"
      }
    },
    {
      "cell_type": "code",
      "source": [
        "from google.colab import drive\n",
        "drive.mount('/content/drive')"
      ],
      "metadata": {
        "colab": {
          "base_uri": "https://localhost:8080/"
        },
        "id": "1R0h5j-SAlqv",
        "outputId": "3e091428-4516-45b9-ac83-5e9dca2ad2c3"
      },
      "execution_count": null,
      "outputs": [
        {
          "output_type": "stream",
          "name": "stdout",
          "text": [
            "Mounted at /content/drive\n"
          ]
        }
      ]
    },
    {
      "cell_type": "code",
      "source": [
        "!apt-get install openjdk-8-jdk-headless -qq > /dev/null"
      ],
      "metadata": {
        "id": "47Nu-9HZGaS6"
      },
      "execution_count": null,
      "outputs": []
    },
    {
      "cell_type": "code",
      "source": [
        "!wget -q https://dlcdn.apache.org/spark/spark-3.3.2/spark-3.3.2-bin-hadoop3.tgz"
      ],
      "metadata": {
        "id": "CYzn8SisGaVs"
      },
      "execution_count": null,
      "outputs": []
    },
    {
      "cell_type": "code",
      "source": [
        "!tar xf /content/spark-3.3.2-bin-hadoop3.tgz"
      ],
      "metadata": {
        "id": "fh1dVo3aGaYo"
      },
      "execution_count": null,
      "outputs": []
    },
    {
      "cell_type": "code",
      "source": [
        "\n",
        "!pip install -q findspark"
      ],
      "metadata": {
        "id": "WeDQGuhvGabt"
      },
      "execution_count": null,
      "outputs": []
    },
    {
      "cell_type": "code",
      "source": [
        "import os\n",
        "os.environ[\"JAVA_HOME\"] = \"/usr/lib/jvm/java-8-openjdk-amd64\"\n",
        "os.environ[\"SPARK_HOME\"] = \"/content/spark-3.3.2-bin-hadoop3\""
      ],
      "metadata": {
        "id": "_KVNVCLRHFzn"
      },
      "execution_count": null,
      "outputs": []
    },
    {
      "cell_type": "code",
      "source": [
        "import findspark\n",
        "findspark.init()"
      ],
      "metadata": {
        "id": "dfUKW3JuGOeP"
      },
      "execution_count": null,
      "outputs": []
    },
    {
      "cell_type": "code",
      "source": [
        "findspark.find()"
      ],
      "metadata": {
        "colab": {
          "base_uri": "https://localhost:8080/",
          "height": 36
        },
        "id": "FtA4K9oxCo0c",
        "outputId": "6ad9cc80-e641-4d82-b767-6f28f5bc5a41"
      },
      "execution_count": null,
      "outputs": [
        {
          "output_type": "execute_result",
          "data": {
            "text/plain": [
              "'/content/spark-3.3.2-bin-hadoop3'"
            ],
            "application/vnd.google.colaboratory.intrinsic+json": {
              "type": "string"
            }
          },
          "metadata": {},
          "execution_count": 10
        }
      ]
    },
    {
      "cell_type": "code",
      "source": [
        "from pyspark.sql import SparkSession\n",
        "\n",
        "spark = SparkSession.builder\\\n",
        "        .master(\"local\")\\\n",
        "        .appName(\"Colab\")\\\n",
        "        .config('spark.ui.port', '4050')\\\n",
        "        .getOrCreate()"
      ],
      "metadata": {
        "id": "G9oMDvbdGJ9T"
      },
      "execution_count": null,
      "outputs": []
    },
    {
      "cell_type": "code",
      "source": [
        "spark"
      ],
      "metadata": {
        "colab": {
          "base_uri": "https://localhost:8080/",
          "height": 219
        },
        "id": "t8YcPCvof7NZ",
        "outputId": "83d71e4c-cdb9-4eec-ec54-684274a5981d"
      },
      "execution_count": null,
      "outputs": [
        {
          "output_type": "execute_result",
          "data": {
            "text/plain": [
              "<pyspark.sql.session.SparkSession at 0x7f639b5ba400>"
            ],
            "text/html": [
              "\n",
              "            <div>\n",
              "                <p><b>SparkSession - in-memory</b></p>\n",
              "                \n",
              "        <div>\n",
              "            <p><b>SparkContext</b></p>\n",
              "\n",
              "            <p><a href=\"http://3904cccd774d:4050\">Spark UI</a></p>\n",
              "\n",
              "            <dl>\n",
              "              <dt>Version</dt>\n",
              "                <dd><code>v3.3.2</code></dd>\n",
              "              <dt>Master</dt>\n",
              "                <dd><code>local</code></dd>\n",
              "              <dt>AppName</dt>\n",
              "                <dd><code>Colab</code></dd>\n",
              "            </dl>\n",
              "        </div>\n",
              "        \n",
              "            </div>\n",
              "        "
            ]
          },
          "metadata": {},
          "execution_count": 12
        }
      ]
    },
    {
      "cell_type": "code",
      "source": [
        "!wget https://bin.equinox.io/c/4VmDzA7iaHb/ngrok-stable-linux-amd64.zip\n",
        "!unzip ngrok-stable-linux-amd64.zip\n",
        "get_ipython().system_raw('/content/ngrok http 4050 &')\n",
        "!curl -s http://localhost:4040/api/tunnels"
      ],
      "metadata": {
        "colab": {
          "base_uri": "https://localhost:8080/"
        },
        "id": "lyp0ddkZgKuZ",
        "outputId": "9d5df1eb-7941-4dfe-ef78-e69aa54735f7"
      },
      "execution_count": null,
      "outputs": [
        {
          "output_type": "stream",
          "name": "stdout",
          "text": [
            "--2023-04-09 17:31:18--  https://bin.equinox.io/c/4VmDzA7iaHb/ngrok-stable-linux-amd64.zip\n",
            "Resolving bin.equinox.io (bin.equinox.io)... 54.237.133.81, 54.161.241.46, 52.202.168.65, ...\n",
            "Connecting to bin.equinox.io (bin.equinox.io)|54.237.133.81|:443... connected.\n",
            "HTTP request sent, awaiting response... 200 OK\n",
            "Length: 13921656 (13M) [application/octet-stream]\n",
            "Saving to: ‘ngrok-stable-linux-amd64.zip’\n",
            "\n",
            "ngrok-stable-linux- 100%[===================>]  13.28M  49.1MB/s    in 0.3s    \n",
            "\n",
            "2023-04-09 17:31:18 (49.1 MB/s) - ‘ngrok-stable-linux-amd64.zip’ saved [13921656/13921656]\n",
            "\n",
            "Archive:  ngrok-stable-linux-amd64.zip\n",
            "  inflating: ngrok                   \n",
            "{\"tunnels\":[],\"uri\":\"/api/tunnels\"}\n"
          ]
        }
      ]
    },
    {
      "cell_type": "markdown",
      "source": [
        "#dataset import"
      ],
      "metadata": {
        "id": "gZPPZHuzh2AS"
      }
    },
    {
      "cell_type": "code",
      "source": [
        "df = spark.read.csv('/content/drive/MyDrive/dataset/Bigdata/Breast_cancer_prediction.csv', inferSchema=True, header=True)\n",
        "df.dtypes"
      ],
      "metadata": {
        "colab": {
          "base_uri": "https://localhost:8080/"
        },
        "id": "47x1lM5dgTPB",
        "outputId": "e93c4ec4-d74d-40c4-ad36-93168807cbba"
      },
      "execution_count": null,
      "outputs": [
        {
          "output_type": "execute_result",
          "data": {
            "text/plain": [
              "[('mean_radius', 'double'),\n",
              " ('mean_texture', 'double'),\n",
              " ('mean_perimeter', 'double'),\n",
              " ('mean_area', 'double'),\n",
              " ('mean_smoothness', 'double'),\n",
              " ('diagnosis', 'int')]"
            ]
          },
          "metadata": {},
          "execution_count": 14
        }
      ]
    },
    {
      "cell_type": "markdown",
      "source": [
        "#dataset structure and description"
      ],
      "metadata": {
        "id": "a_nD0pu1iBVs"
      }
    },
    {
      "cell_type": "code",
      "source": [
        "df.printSchema()"
      ],
      "metadata": {
        "colab": {
          "base_uri": "https://localhost:8080/"
        },
        "id": "1n9B_0N0incT",
        "outputId": "761de6c6-1264-4f3a-ee39-ae713cd93b13"
      },
      "execution_count": null,
      "outputs": [
        {
          "output_type": "stream",
          "name": "stdout",
          "text": [
            "root\n",
            " |-- mean_radius: double (nullable = true)\n",
            " |-- mean_texture: double (nullable = true)\n",
            " |-- mean_perimeter: double (nullable = true)\n",
            " |-- mean_area: double (nullable = true)\n",
            " |-- mean_smoothness: double (nullable = true)\n",
            " |-- diagnosis: integer (nullable = true)\n",
            "\n"
          ]
        }
      ]
    },
    {
      "cell_type": "code",
      "source": [
        "df.columns"
      ],
      "metadata": {
        "colab": {
          "base_uri": "https://localhost:8080/"
        },
        "id": "eoXkFEqRjhsC",
        "outputId": "5e46e296-115f-4521-d2fc-96eeaab06417"
      },
      "execution_count": null,
      "outputs": [
        {
          "output_type": "execute_result",
          "data": {
            "text/plain": [
              "['mean_radius',\n",
              " 'mean_texture',\n",
              " 'mean_perimeter',\n",
              " 'mean_area',\n",
              " 'mean_smoothness',\n",
              " 'diagnosis']"
            ]
          },
          "metadata": {},
          "execution_count": 16
        }
      ]
    },
    {
      "cell_type": "code",
      "source": [
        "df.show(5)"
      ],
      "metadata": {
        "colab": {
          "base_uri": "https://localhost:8080/"
        },
        "id": "YZLoMnbBiyXb",
        "outputId": "16549309-1c1b-4665-ddc1-320980b440f2"
      },
      "execution_count": null,
      "outputs": [
        {
          "output_type": "stream",
          "name": "stdout",
          "text": [
            "+-----------+------------+--------------+---------+---------------+---------+\n",
            "|mean_radius|mean_texture|mean_perimeter|mean_area|mean_smoothness|diagnosis|\n",
            "+-----------+------------+--------------+---------+---------------+---------+\n",
            "|      17.99|       10.38|         122.8|   1001.0|         0.1184|        0|\n",
            "|      20.57|       17.77|         132.9|   1326.0|        0.08474|        0|\n",
            "|      19.69|       21.25|         130.0|   1203.0|         0.1096|        0|\n",
            "|      11.42|       20.38|         77.58|    386.1|         0.1425|        0|\n",
            "|      20.29|       14.34|         135.1|   1297.0|         0.1003|        0|\n",
            "+-----------+------------+--------------+---------+---------------+---------+\n",
            "only showing top 5 rows\n",
            "\n"
          ]
        }
      ]
    },
    {
      "cell_type": "code",
      "source": [
        "df.describe().show()"
      ],
      "metadata": {
        "colab": {
          "base_uri": "https://localhost:8080/"
        },
        "id": "lHhGZV0gi72H",
        "outputId": "14d60f52-5fc7-4c93-f5b1-5888fb543bef"
      },
      "execution_count": null,
      "outputs": [
        {
          "output_type": "stream",
          "name": "stdout",
          "text": [
            "+-------+------------------+-----------------+-----------------+-----------------+--------------------+------------------+\n",
            "|summary|       mean_radius|     mean_texture|   mean_perimeter|        mean_area|     mean_smoothness|         diagnosis|\n",
            "+-------+------------------+-----------------+-----------------+-----------------+--------------------+------------------+\n",
            "|  count|               569|              569|              569|              569|                 569|               569|\n",
            "|   mean|14.127291739894563|19.28964850615117|91.96903339191566|654.8891036906857|   0.096360281195079|0.6274165202108963|\n",
            "| stddev|3.5240488262120793|4.301035768166948| 24.2989810387549|351.9141291816529|0.014064128137673616|0.4839179564031685|\n",
            "|    min|             6.981|             9.71|            43.79|            143.5|             0.05263|                 0|\n",
            "|    max|             28.11|            39.28|            188.5|           2501.0|              0.1634|                 1|\n",
            "+-------+------------------+-----------------+-----------------+-----------------+--------------------+------------------+\n",
            "\n"
          ]
        }
      ]
    },
    {
      "cell_type": "code",
      "source": [
        "df.count()"
      ],
      "metadata": {
        "colab": {
          "base_uri": "https://localhost:8080/"
        },
        "id": "yGJAWWN-j4h0",
        "outputId": "d46671ab-8dda-4638-b91b-2f5f0b5b06d6"
      },
      "execution_count": null,
      "outputs": [
        {
          "output_type": "execute_result",
          "data": {
            "text/plain": [
              "569"
            ]
          },
          "metadata": {},
          "execution_count": 19
        }
      ]
    },
    {
      "cell_type": "code",
      "source": [
        "df.select(\"mean_radius\",\"diagnosis\").show(5)"
      ],
      "metadata": {
        "colab": {
          "base_uri": "https://localhost:8080/"
        },
        "id": "hr3WYf_mkAkK",
        "outputId": "fc5d31f0-5248-4244-ecb8-3feb5f793078"
      },
      "execution_count": null,
      "outputs": [
        {
          "output_type": "stream",
          "name": "stdout",
          "text": [
            "+-----------+---------+\n",
            "|mean_radius|diagnosis|\n",
            "+-----------+---------+\n",
            "|      17.99|        0|\n",
            "|      20.57|        0|\n",
            "|      19.69|        0|\n",
            "|      11.42|        0|\n",
            "|      20.29|        0|\n",
            "+-----------+---------+\n",
            "only showing top 5 rows\n",
            "\n"
          ]
        }
      ]
    },
    {
      "cell_type": "code",
      "source": [
        "df.select(\"diagnosis\").distinct().show()"
      ],
      "metadata": {
        "colab": {
          "base_uri": "https://localhost:8080/"
        },
        "id": "zleCm6OBkYm8",
        "outputId": "4d3feceb-66f5-4988-8740-d8f308f119fa"
      },
      "execution_count": null,
      "outputs": [
        {
          "output_type": "stream",
          "name": "stdout",
          "text": [
            "+---------+\n",
            "|diagnosis|\n",
            "+---------+\n",
            "|        1|\n",
            "|        0|\n",
            "+---------+\n",
            "\n"
          ]
        }
      ]
    },
    {
      "cell_type": "code",
      "source": [
        "# #aggregate with group\n",
        "from pyspark.sql import functions as F\n",
        "# df.groupBy(\"City_Category\").agg(F.sum(\"Purchase\")).show()"
      ],
      "metadata": {
        "id": "lIVx18-4kzlS"
      },
      "execution_count": null,
      "outputs": []
    },
    {
      "cell_type": "markdown",
      "source": [
        "#Dealing with Missing Values"
      ],
      "metadata": {
        "id": "lh9CLkR7iH__"
      }
    },
    {
      "cell_type": "code",
      "source": [
        "df.select([F.count(F.when(F.isnull(c), c)).alias(c) for c in df.columns]).show()"
      ],
      "metadata": {
        "colab": {
          "base_uri": "https://localhost:8080/"
        },
        "id": "2c4HPX6Gk4TY",
        "outputId": "0fb94fec-85be-42bf-def2-e50e555340d9"
      },
      "execution_count": null,
      "outputs": [
        {
          "output_type": "stream",
          "name": "stdout",
          "text": [
            "+-----------+------------+--------------+---------+---------------+---------+\n",
            "|mean_radius|mean_texture|mean_perimeter|mean_area|mean_smoothness|diagnosis|\n",
            "+-----------+------------+--------------+---------+---------------+---------+\n",
            "|          0|           0|             0|        0|              0|        0|\n",
            "+-----------+------------+--------------+---------+---------------+---------+\n",
            "\n"
          ]
        }
      ]
    },
    {
      "cell_type": "code",
      "source": [
        "df = df.dropna() # drop rows with missing values\n",
        "from pyspark.sql.functions import col\n",
        "exprs = [col(column).alias(column.replace(' ', '_')) for column in df.columns]"
      ],
      "metadata": {
        "id": "1HTOpxmkrOqZ"
      },
      "execution_count": null,
      "outputs": []
    },
    {
      "cell_type": "code",
      "source": [
        "df.select('diagnosis').describe().show()"
      ],
      "metadata": {
        "id": "voJfZOe2lEXK",
        "colab": {
          "base_uri": "https://localhost:8080/"
        },
        "outputId": "ece6c5f7-c4b5-4ab6-b483-fcd8edcebd22"
      },
      "execution_count": null,
      "outputs": [
        {
          "output_type": "stream",
          "name": "stdout",
          "text": [
            "+-------+------------------+\n",
            "|summary|         diagnosis|\n",
            "+-------+------------------+\n",
            "|  count|               569|\n",
            "|   mean|0.6274165202108963|\n",
            "| stddev|0.4839179564031685|\n",
            "|    min|                 0|\n",
            "|    max|                 1|\n",
            "+-------+------------------+\n",
            "\n"
          ]
        }
      ]
    },
    {
      "cell_type": "code",
      "source": [
        "# where\n",
        "df.where(col(\"mean_radius\").isNull()).count()\n",
        "# filter\n",
        "df.filter(col(\"mean_radius\").isNull()).count()"
      ],
      "metadata": {
        "colab": {
          "base_uri": "https://localhost:8080/"
        },
        "id": "Q6yb0b9qHJ7w",
        "outputId": "4096f0cf-d705-4131-a673-fb373876b583"
      },
      "execution_count": null,
      "outputs": [
        {
          "output_type": "execute_result",
          "data": {
            "text/plain": [
              "0"
            ]
          },
          "metadata": {},
          "execution_count": 34
        }
      ]
    },
    {
      "cell_type": "code",
      "source": [
        "# where\n",
        "df.where(col(\"mean_smoothness\").isNull()).count()\n",
        "# filter\n",
        "df.filter(col(\"mean_smoothness\").isNull()).count()"
      ],
      "metadata": {
        "colab": {
          "base_uri": "https://localhost:8080/"
        },
        "id": "QMUdjfSdHYUv",
        "outputId": "b04c34a6-4a5a-4948-8443-4f0889c5f5e2"
      },
      "execution_count": null,
      "outputs": [
        {
          "output_type": "execute_result",
          "data": {
            "text/plain": [
              "0"
            ]
          },
          "metadata": {},
          "execution_count": 35
        }
      ]
    },
    {
      "cell_type": "markdown",
      "source": [
        "#correlation matric"
      ],
      "metadata": {
        "id": "0FdlrhMAHroF"
      }
    },
    {
      "cell_type": "code",
      "source": [
        "numeric_cols = [\"mean_radius\",\"mean_texture\",\"mean_perimeter\",\"mean_area\",\"mean_smoothness\",\"diagnosis\"]"
      ],
      "metadata": {
        "id": "LFSRH_Aii6oY"
      },
      "execution_count": null,
      "outputs": []
    },
    {
      "cell_type": "code",
      "source": [
        "from pyspark.mllib.stat import Statistics\n",
        "\n",
        "# select variables to check correlation\n",
        "df_features = df.select(\"mean_radius\",\"mean_texture\",\"mean_perimeter\",\"mean_area\",\"mean_smoothness\",\"diagnosis\") \n",
        "\n",
        "# create RDD table for correlation calculation\n",
        "rdd_table = df_features.rdd.map(lambda row: row[0:])\n",
        "\n",
        "# get the correlation matrix\n",
        "corr_mat=Statistics.corr(rdd_table, method=\"pearson\")"
      ],
      "metadata": {
        "id": "wk21in4PHt3S"
      },
      "execution_count": null,
      "outputs": []
    },
    {
      "cell_type": "code",
      "source": [
        "import pandas as pd\n",
        "pd.DataFrame(corr_mat, columns=numeric_cols, index=numeric_cols)"
      ],
      "metadata": {
        "colab": {
          "base_uri": "https://localhost:8080/",
          "height": 237
        },
        "id": "nuo_VfQ9iMwm",
        "outputId": "740f608d-e039-44b0-ae5a-a9d3bb80c2f7"
      },
      "execution_count": null,
      "outputs": [
        {
          "output_type": "execute_result",
          "data": {
            "text/plain": [
              "                 mean_radius  mean_texture  mean_perimeter  mean_area  \\\n",
              "mean_radius         1.000000      0.323782        0.997855   0.987357   \n",
              "mean_texture        0.323782      1.000000        0.329533   0.321086   \n",
              "mean_perimeter      0.997855      0.329533        1.000000   0.986507   \n",
              "mean_area           0.987357      0.321086        0.986507   1.000000   \n",
              "mean_smoothness     0.170581     -0.023389        0.207278   0.177028   \n",
              "diagnosis          -0.730029     -0.415185       -0.742636  -0.708984   \n",
              "\n",
              "                 mean_smoothness  diagnosis  \n",
              "mean_radius             0.170581  -0.730029  \n",
              "mean_texture           -0.023389  -0.415185  \n",
              "mean_perimeter          0.207278  -0.742636  \n",
              "mean_area               0.177028  -0.708984  \n",
              "mean_smoothness         1.000000  -0.358560  \n",
              "diagnosis              -0.358560   1.000000  "
            ],
            "text/html": [
              "\n",
              "  <div id=\"df-05be72bf-3d61-4b23-bb1f-d808c75e51e0\">\n",
              "    <div class=\"colab-df-container\">\n",
              "      <div>\n",
              "<style scoped>\n",
              "    .dataframe tbody tr th:only-of-type {\n",
              "        vertical-align: middle;\n",
              "    }\n",
              "\n",
              "    .dataframe tbody tr th {\n",
              "        vertical-align: top;\n",
              "    }\n",
              "\n",
              "    .dataframe thead th {\n",
              "        text-align: right;\n",
              "    }\n",
              "</style>\n",
              "<table border=\"1\" class=\"dataframe\">\n",
              "  <thead>\n",
              "    <tr style=\"text-align: right;\">\n",
              "      <th></th>\n",
              "      <th>mean_radius</th>\n",
              "      <th>mean_texture</th>\n",
              "      <th>mean_perimeter</th>\n",
              "      <th>mean_area</th>\n",
              "      <th>mean_smoothness</th>\n",
              "      <th>diagnosis</th>\n",
              "    </tr>\n",
              "  </thead>\n",
              "  <tbody>\n",
              "    <tr>\n",
              "      <th>mean_radius</th>\n",
              "      <td>1.000000</td>\n",
              "      <td>0.323782</td>\n",
              "      <td>0.997855</td>\n",
              "      <td>0.987357</td>\n",
              "      <td>0.170581</td>\n",
              "      <td>-0.730029</td>\n",
              "    </tr>\n",
              "    <tr>\n",
              "      <th>mean_texture</th>\n",
              "      <td>0.323782</td>\n",
              "      <td>1.000000</td>\n",
              "      <td>0.329533</td>\n",
              "      <td>0.321086</td>\n",
              "      <td>-0.023389</td>\n",
              "      <td>-0.415185</td>\n",
              "    </tr>\n",
              "    <tr>\n",
              "      <th>mean_perimeter</th>\n",
              "      <td>0.997855</td>\n",
              "      <td>0.329533</td>\n",
              "      <td>1.000000</td>\n",
              "      <td>0.986507</td>\n",
              "      <td>0.207278</td>\n",
              "      <td>-0.742636</td>\n",
              "    </tr>\n",
              "    <tr>\n",
              "      <th>mean_area</th>\n",
              "      <td>0.987357</td>\n",
              "      <td>0.321086</td>\n",
              "      <td>0.986507</td>\n",
              "      <td>1.000000</td>\n",
              "      <td>0.177028</td>\n",
              "      <td>-0.708984</td>\n",
              "    </tr>\n",
              "    <tr>\n",
              "      <th>mean_smoothness</th>\n",
              "      <td>0.170581</td>\n",
              "      <td>-0.023389</td>\n",
              "      <td>0.207278</td>\n",
              "      <td>0.177028</td>\n",
              "      <td>1.000000</td>\n",
              "      <td>-0.358560</td>\n",
              "    </tr>\n",
              "    <tr>\n",
              "      <th>diagnosis</th>\n",
              "      <td>-0.730029</td>\n",
              "      <td>-0.415185</td>\n",
              "      <td>-0.742636</td>\n",
              "      <td>-0.708984</td>\n",
              "      <td>-0.358560</td>\n",
              "      <td>1.000000</td>\n",
              "    </tr>\n",
              "  </tbody>\n",
              "</table>\n",
              "</div>\n",
              "      <button class=\"colab-df-convert\" onclick=\"convertToInteractive('df-05be72bf-3d61-4b23-bb1f-d808c75e51e0')\"\n",
              "              title=\"Convert this dataframe to an interactive table.\"\n",
              "              style=\"display:none;\">\n",
              "        \n",
              "  <svg xmlns=\"http://www.w3.org/2000/svg\" height=\"24px\"viewBox=\"0 0 24 24\"\n",
              "       width=\"24px\">\n",
              "    <path d=\"M0 0h24v24H0V0z\" fill=\"none\"/>\n",
              "    <path d=\"M18.56 5.44l.94 2.06.94-2.06 2.06-.94-2.06-.94-.94-2.06-.94 2.06-2.06.94zm-11 1L8.5 8.5l.94-2.06 2.06-.94-2.06-.94L8.5 2.5l-.94 2.06-2.06.94zm10 10l.94 2.06.94-2.06 2.06-.94-2.06-.94-.94-2.06-.94 2.06-2.06.94z\"/><path d=\"M17.41 7.96l-1.37-1.37c-.4-.4-.92-.59-1.43-.59-.52 0-1.04.2-1.43.59L10.3 9.45l-7.72 7.72c-.78.78-.78 2.05 0 2.83L4 21.41c.39.39.9.59 1.41.59.51 0 1.02-.2 1.41-.59l7.78-7.78 2.81-2.81c.8-.78.8-2.07 0-2.86zM5.41 20L4 18.59l7.72-7.72 1.47 1.35L5.41 20z\"/>\n",
              "  </svg>\n",
              "      </button>\n",
              "      \n",
              "  <style>\n",
              "    .colab-df-container {\n",
              "      display:flex;\n",
              "      flex-wrap:wrap;\n",
              "      gap: 12px;\n",
              "    }\n",
              "\n",
              "    .colab-df-convert {\n",
              "      background-color: #E8F0FE;\n",
              "      border: none;\n",
              "      border-radius: 50%;\n",
              "      cursor: pointer;\n",
              "      display: none;\n",
              "      fill: #1967D2;\n",
              "      height: 32px;\n",
              "      padding: 0 0 0 0;\n",
              "      width: 32px;\n",
              "    }\n",
              "\n",
              "    .colab-df-convert:hover {\n",
              "      background-color: #E2EBFA;\n",
              "      box-shadow: 0px 1px 2px rgba(60, 64, 67, 0.3), 0px 1px 3px 1px rgba(60, 64, 67, 0.15);\n",
              "      fill: #174EA6;\n",
              "    }\n",
              "\n",
              "    [theme=dark] .colab-df-convert {\n",
              "      background-color: #3B4455;\n",
              "      fill: #D2E3FC;\n",
              "    }\n",
              "\n",
              "    [theme=dark] .colab-df-convert:hover {\n",
              "      background-color: #434B5C;\n",
              "      box-shadow: 0px 1px 3px 1px rgba(0, 0, 0, 0.15);\n",
              "      filter: drop-shadow(0px 1px 2px rgba(0, 0, 0, 0.3));\n",
              "      fill: #FFFFFF;\n",
              "    }\n",
              "  </style>\n",
              "\n",
              "      <script>\n",
              "        const buttonEl =\n",
              "          document.querySelector('#df-05be72bf-3d61-4b23-bb1f-d808c75e51e0 button.colab-df-convert');\n",
              "        buttonEl.style.display =\n",
              "          google.colab.kernel.accessAllowed ? 'block' : 'none';\n",
              "\n",
              "        async function convertToInteractive(key) {\n",
              "          const element = document.querySelector('#df-05be72bf-3d61-4b23-bb1f-d808c75e51e0');\n",
              "          const dataTable =\n",
              "            await google.colab.kernel.invokeFunction('convertToInteractive',\n",
              "                                                     [key], {});\n",
              "          if (!dataTable) return;\n",
              "\n",
              "          const docLinkHtml = 'Like what you see? Visit the ' +\n",
              "            '<a target=\"_blank\" href=https://colab.research.google.com/notebooks/data_table.ipynb>data table notebook</a>'\n",
              "            + ' to learn more about interactive tables.';\n",
              "          element.innerHTML = '';\n",
              "          dataTable['output_type'] = 'display_data';\n",
              "          await google.colab.output.renderOutput(dataTable, element);\n",
              "          const docLink = document.createElement('div');\n",
              "          docLink.innerHTML = docLinkHtml;\n",
              "          element.appendChild(docLink);\n",
              "        }\n",
              "      </script>\n",
              "    </div>\n",
              "  </div>\n",
              "  "
            ]
          },
          "metadata": {},
          "execution_count": 65
        }
      ]
    },
    {
      "cell_type": "code",
      "source": [
        "corr_mat"
      ],
      "metadata": {
        "colab": {
          "base_uri": "https://localhost:8080/"
        },
        "id": "ydeAv5e_IVlO",
        "outputId": "8ab18235-3694-43b6-c509-63c9400238df"
      },
      "execution_count": null,
      "outputs": [
        {
          "output_type": "execute_result",
          "data": {
            "text/plain": [
              "array([[ 1.        ,  0.32378189,  0.99785528,  0.98735717,  0.17058119,\n",
              "        -0.73002851],\n",
              "       [ 0.32378189,  1.        ,  0.32953306,  0.3210857 , -0.02338852,\n",
              "        -0.4151853 ],\n",
              "       [ 0.99785528,  0.32953306,  1.        ,  0.9865068 ,  0.20727816,\n",
              "        -0.74263553],\n",
              "       [ 0.98735717,  0.3210857 ,  0.9865068 ,  1.        ,  0.17702838,\n",
              "        -0.70898384],\n",
              "       [ 0.17058119, -0.02338852,  0.20727816,  0.17702838,  1.        ,\n",
              "        -0.35855997],\n",
              "       [-0.73002851, -0.4151853 , -0.74263553, -0.70898384, -0.35855997,\n",
              "         1.        ]])"
            ]
          },
          "metadata": {},
          "execution_count": 37
        }
      ]
    },
    {
      "cell_type": "code",
      "source": [
        "\n",
        "import seaborn as sns\n",
        "sns.heatmap(corr_mat, \n",
        "            xticklabels=numeric_cols,\n",
        "            yticklabels=numeric_cols,\n",
        "            cmap=sns.cm.rocket_r\n",
        "           )\n",
        "     "
      ],
      "metadata": {
        "colab": {
          "base_uri": "https://localhost:8080/",
          "height": 568
        },
        "id": "8CmbH32PiNsO",
        "outputId": "3be4d9e1-49ec-4b8a-aea5-38eecc3623c9"
      },
      "execution_count": null,
      "outputs": [
        {
          "output_type": "execute_result",
          "data": {
            "text/plain": [
              "<Axes: >"
            ]
          },
          "metadata": {},
          "execution_count": 67
        },
        {
          "output_type": "display_data",
          "data": {
            "text/plain": [
              "<Figure size 640x480 with 2 Axes>"
            ],
            "image/png": "[encoded data removed]"
          },
          "metadata": {}
        }
      ]
    },
    {
      "cell_type": "code",
      "source": [
        "display(df)"
      ],
      "metadata": {
        "colab": {
          "base_uri": "https://localhost:8080/",
          "height": 52
        },
        "id": "e7W5kexeIjWC",
        "outputId": "a8ef6fc4-f3dd-46d5-d150-b31d82f8694a"
      },
      "execution_count": null,
      "outputs": [
        {
          "output_type": "display_data",
          "data": {
            "text/plain": [
              "DataFrame[mean_radius: double, mean_texture: double, mean_perimeter: double, mean_area: double, mean_smoothness: double, diagnosis: int]"
            ]
          },
          "metadata": {}
        }
      ]
    },
    {
      "cell_type": "code",
      "source": [],
      "metadata": {
        "id": "NJZP2pOcOsO3"
      },
      "execution_count": null,
      "outputs": []
    },
    {
      "cell_type": "code",
      "source": [
        "df.write.csv(\"/content/output1.csv\")"
      ],
      "metadata": {
        "id": "hXfoKdqnmgAk"
      },
      "execution_count": null,
      "outputs": []
    },
    {
      "cell_type": "code",
      "source": [
        "!pip install sqlalchemy"
      ],
      "metadata": {
        "colab": {
          "base_uri": "https://localhost:8080/"
        },
        "id": "BQ8K4xgNRKq2",
        "outputId": "a7f2db44-8e6a-44cf-cc66-d6248fd8061f"
      },
      "execution_count": null,
      "outputs": [
        {
          "output_type": "stream",
          "name": "stdout",
          "text": [
            "Looking in indexes: https://pypi.org/simple, https://us-python.pkg.dev/colab-wheels/public/simple/\n",
            "Requirement already satisfied: sqlalchemy in /usr/local/lib/python3.9/dist-packages (1.4.47)\n",
            "Requirement already satisfied: greenlet!=0.4.17 in /usr/local/lib/python3.9/dist-packages (from sqlalchemy) (2.0.2)\n"
          ]
        }
      ]
    },
    {
      "cell_type": "markdown",
      "source": [
        "#Visualization"
      ],
      "metadata": {
        "id": "vNXqn4iAjMIs"
      }
    },
    {
      "cell_type": "code",
      "source": [
        "import matplotlib.pyplot as plt\n",
        "# taking sample of 0.8 of whole data\n",
        "# convert it to pandas dataframe \n",
        "sampled_data = df.select('mean_area','diagnosis').sample(False, 0.8).toPandas()\n",
        "# and at the end lets use our beautiful matplotlib\n",
        "plt.scatter(sampled_data.mean_area,sampled_data.diagnosis)\n",
        "plt.xlabel('mean_area')\n",
        "plt.ylabel('diagnosis')\n",
        "plt.title('relation of diagnosis and mean_area')\n",
        "plt.show()"
      ],
      "metadata": {
        "colab": {
          "base_uri": "https://localhost:8080/",
          "height": 472
        },
        "id": "XOtU2C6bOs7G",
        "outputId": "d1cdf4b7-4644-4317-c914-10146fe126ca"
      },
      "execution_count": null,
      "outputs": [
        {
          "output_type": "display_data",
          "data": {
            "text/plain": [
              "<Figure size 640x480 with 1 Axes>"
            ],
            "image/png": "[encoded data removed]"
          },
          "metadata": {}
        }
      ]
    },
    {
      "cell_type": "code",
      "source": [
        "import matplotlib.pyplot as plt\n",
        "# taking sample of 0.8 of whole data\n",
        "# convert it to pandas dataframe \n",
        "sampled_data = df.select('mean_texture','diagnosis').sample(False, 0.8).toPandas()\n",
        "# and at the end lets use our beautiful matplotlib\n",
        "plt.scatter(sampled_data.mean_texture,sampled_data.diagnosis)\n",
        "plt.xlabel('mean_texture')\n",
        "plt.ylabel('diagnosis')\n",
        "plt.title('relation of diagnosis and mean_texture')\n",
        "plt.show()"
      ],
      "metadata": {
        "colab": {
          "base_uri": "https://localhost:8080/",
          "height": 472
        },
        "id": "fHGLwoRXdHbD",
        "outputId": "a72d2cd3-a6f4-4278-a25f-491cfc0a85c0"
      },
      "execution_count": null,
      "outputs": [
        {
          "output_type": "display_data",
          "data": {
            "text/plain": [
              "<Figure size 640x480 with 1 Axes>"
            ],
            "image/png": "[encoded data removed]"
          },
          "metadata": {}
        }
      ]
    },
    {
      "cell_type": "code",
      "source": [],
      "metadata": {
        "id": "6Gat4lvrdG6z"
      },
      "execution_count": null,
      "outputs": []
    },
    {
      "cell_type": "code",
      "source": [
        "df.rdd.getNumPartitions()"
      ],
      "metadata": {
        "colab": {
          "base_uri": "https://localhost:8080/"
        },
        "id": "i_VwVZ3gq3qx",
        "outputId": "d50fbd08-2959-4fec-84a3-37d12f18a2bb"
      },
      "execution_count": null,
      "outputs": [
        {
          "output_type": "execute_result",
          "data": {
            "text/plain": [
              "1"
            ]
          },
          "metadata": {},
          "execution_count": 26
        }
      ]
    },
    {
      "cell_type": "markdown",
      "source": [
        "#Building Machine Learning Models using Pyspark.ml"
      ],
      "metadata": {
        "id": "XNz8rS5ajhUr"
      }
    },
    {
      "cell_type": "code",
      "source": [
        "from pyspark.ml.feature import VectorAssembler\n",
        "from pyspark.ml.regression import LinearRegression\n",
        "from pyspark.ml import Pipeline\n",
        "from pyspark.ml.classification import LogisticRegression\n",
        "\n",
        "# specify the input and output columns of the vector assembler\n",
        "assembler = VectorAssembler(inputCols=['mean_radius','mean_texture', 'mean_perimeter', 'mean_area', 'mean_smoothness'],\n",
        "                           outputCol='feature')\n"
      ],
      "metadata": {
        "id": "6FCfARVuw5Q9"
      },
      "execution_count": null,
      "outputs": []
    },
    {
      "cell_type": "code",
      "source": [
        "\n",
        "from pyspark.ml.regression import LinearRegression\n",
        "\n",
        "lr = LinearRegression(featuresCol='feature', labelCol='diagnosis')\n",
        "\n",
        "# setup the pipeline\n",
        "regression_pipeline = Pipeline(stages= [assembler,lr])\n",
        "\n",
        "# fit the pipeline for the trainind data\n",
        "model = regression_pipeline.fit(df)\n",
        "\n"
      ],
      "metadata": {
        "id": "aq3qM-4q0Z-e"
      },
      "execution_count": null,
      "outputs": []
    },
    {
      "cell_type": "code",
      "source": [
        "train_predictions = model.transform(df)\n"
      ],
      "metadata": {
        "id": "ZZdr3oxL6-rP"
      },
      "execution_count": null,
      "outputs": []
    },
    {
      "cell_type": "code",
      "source": [
        "test_predictions = model.transform(df)"
      ],
      "metadata": {
        "id": "-oJRIEgEejvO"
      },
      "execution_count": null,
      "outputs": []
    },
    {
      "cell_type": "code",
      "source": [
        "from pyspark.ml.evaluation import RegressionEvaluator\n",
        "\n",
        "evaluator = RegressionEvaluator(predictionCol=\"prediction\", \\\n",
        "                 labelCol=\"diagnosis\", metricName=\"r2\")\n",
        "\n",
        "print(\"Train R2:\", evaluator.evaluate(train_predictions))\n",
        "# print(\"Test R2:\", evaluator.evaluate(test_predictions))"
      ],
      "metadata": {
        "colab": {
          "base_uri": "https://localhost:8080/"
        },
        "id": "aHyHLExC-0_b",
        "outputId": "1f3e547a-c20f-491f-b7e2-b03cf5c77ae6"
      },
      "execution_count": null,
      "outputs": [
        {
          "output_type": "stream",
          "name": "stdout",
          "text": [
            "Train R2: 0.6464881711839047\n"
          ]
        }
      ]
    },
    {
      "cell_type": "code",
      "source": [
        "print(\"Test R2:\", evaluator.evaluate(test_predictions))"
      ],
      "metadata": {
        "colab": {
          "base_uri": "https://localhost:8080/"
        },
        "id": "F7Nu2drgGMy6",
        "outputId": "eb6b9c12-c447-4193-f481-ed0dc5f11ee1"
      },
      "execution_count": null,
      "outputs": [
        {
          "output_type": "stream",
          "name": "stdout",
          "text": [
            "Test R2: 0.6464881711839047\n"
          ]
        }
      ]
    },
    {
      "cell_type": "code",
      "source": [],
      "metadata": {
        "id": "AZR2t2b-efo_"
      },
      "execution_count": null,
      "outputs": []
    }
  ]
}